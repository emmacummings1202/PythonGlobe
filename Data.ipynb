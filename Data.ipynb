{
 "cells": [
  {
   "cell_type": "code",
   "execution_count": 2,
   "id": "e94b7966",
   "metadata": {},
   "outputs": [],
   "source": [
    "%gui qt\n",
    "from scipy.io import loadmat"
   ]
  },
  {
   "cell_type": "code",
   "execution_count": 3,
   "id": "8844b531",
   "metadata": {},
   "outputs": [
    {
     "name": "stdout",
     "output_type": "stream",
     "text": [
      "Notebook initialized with ipy backend.\n"
     ]
    }
   ],
   "source": [
    "import vtk\n",
    "import mayavi\n",
    "from mayavi import mlab\n",
    "import numpy as np\n",
    "mlab.init_notebook()"
   ]
  },
  {
   "cell_type": "code",
   "execution_count": 5,
   "id": "57b75d72",
   "metadata": {},
   "outputs": [],
   "source": [
    "# Create a sphere\n",
    "r = 1.0\n",
    "pi = np.pi\n",
    "cos = np.cos\n",
    "sin = np.sin\n",
    "phi, theta = np.mgrid[0:pi:101j, 0:2 * pi:101j]"
   ]
  },
  {
   "cell_type": "code",
   "execution_count": 13,
   "id": "88002d35",
   "metadata": {},
   "outputs": [
    {
     "data": {
      "application/vnd.jupyter.widget-view+json": {
       "model_id": "822da970b9d44959bbcda5d51840381d",
       "version_major": 2,
       "version_minor": 0
      },
      "text/plain": [
       "Image(value=b'\\x89PNG\\r\\n\\x1a\\n\\x00\\x00\\x00\\rIHDR\\x00\\x00\\x01\\x90\\x00\\x00\\x01,\\x08\\x02\\x00\\x00\\x00b\\xd5r\\x95\\x…"
      ]
     },
     "metadata": {},
     "output_type": "display_data"
    }
   ],
   "source": [
    "x = r*sin(phi)*cos(theta)\n",
    "y = r*sin(phi)*sin(theta)\n",
    "z = r*cos(phi)\n",
    "\n",
    "mlab.figure(1, bgcolor=(1, 1, 1), fgcolor=(0, 0, 0), size=(400, 300))\n",
    "mlab.clf()\n",
    "\n",
    "#filtered data mat files\n",
    "filteredData = loadmat(\"filteredbin_2010-01-01-12.mat\")\n",
    "#values for calculating coordinates\n",
    "xx, yy = np.meshgrid(filteredData['phi'], filteredData['theta'])\n",
    "\n",
    "#modelComp data\n",
    "modelCompData = loadmat(\"ModelComp_2010-01-01-12.mat\")\n",
    "#modelComp CHAOS\n",
    "#values for calculating coordinates\n",
    "#xx, yy = np.meshgrid(modelCompData['Bp_CHAOS'], modelCompData['Bt_CHAOS'])\n",
    "\n",
    "#modelComp IGRF\n",
    "#values for calculating coordinates\n",
    "#xx, yy = np.meshgrid(modelCompData['Bp_IGRF'], modelCompData['Bt_IGRF'])\n",
    "\n",
    "#modelComp CI\n",
    "#values for calculating coordinates\n",
    "#xx, yy = np.meshgrid(modelCompData['CI_Bp'], modelCompData['CI_Bt'])\n",
    "\n",
    "\n",
    "#calculating coordinates\n",
    "earth_r = 1\n",
    "long_x = earth_r*sin(xx)*cos(yy)\n",
    "lat_y = earth_r*sin(xx)*sin(yy)\n",
    "r_z = earth_r*cos(xx)\n",
    "\n",
    "\n",
    "#filteredData\n",
    "#bphi_bin \n",
    "#transpose_bphi = np.transpose(filteredData['bphi_bin'])\n",
    "#mlab.points3d(long_x, lat_y, r_z, transpose_bphi, mode='2dhooked_arrow', colormap='seismic', scale_factor=0.005)\n",
    "\n",
    "\n",
    "#br_bin\n",
    "#transpose_br = np.transpose(filteredData['br_bin'])\n",
    "#mlab.points3d(long_x, lat_y, r_z, transpose_br, mode='2dhooked_arrow', colormap='seismic', scale_factor=0.005)\n",
    "\n",
    "\n",
    "#btheta_bin\n",
    "#transpose_btheta = np.transpose(filteredData['btheta_bin'])\n",
    "#mlab.points3d(long_x, lat_y, r_z, transpose_btheta, mode='2dhooked_arrow', colormap='seismic', scale_factor=0.005)\n",
    "\n",
    "\n",
    "#modelComp\n",
    "#modelComp CHAOS\n",
    "transpose_bphi = np.transpose(modelCompData['Bp_CHAOS'])\n",
    "mlab.points3d(long_x, lat_y, r_z, transpose_bphi, mode='2dhooked_arrow', colormap='seismic', scale_factor=0.005)\n"
   ]
  },
  {
   "cell_type": "code",
   "execution_count": 14,
   "id": "b3a2e9f5",
   "metadata": {},
   "outputs": [
    {
     "data": {
      "application/vnd.jupyter.widget-view+json": {
       "model_id": "822da970b9d44959bbcda5d51840381d",
       "version_major": 2,
       "version_minor": 0
      },
      "text/plain": [
       "Image(value=b'\\x89PNG\\r\\n\\x1a\\n\\x00\\x00\\x00\\rIHDR\\x00\\x00\\x01\\x90\\x00\\x00\\x01,\\x08\\x02\\x00\\x00\\x00b\\xd5r\\x95\\x…"
      ]
     },
     "metadata": {},
     "output_type": "display_data"
    }
   ],
   "source": [
    "# Display continents outline, using the VTK Builtin surface 'Earth'\n",
    "from mayavi.sources.builtin_surface import BuiltinSurface\n",
    "continents_src = BuiltinSurface(source='earth', name='Continents')\n",
    "# The on_ratio of the Earth source controls the level of detail of the\n",
    "# continents outline.\n",
    "continents_src.data_source.on_ratio = 2\n",
    "continents = mlab.pipeline.surface(continents_src, color=(0, 0, 0))\n",
    "\n",
    "# Display a semi-transparent sphere, for the surface of the Earth\n",
    "# We use a sphere Glyph, through the points3d mlab function, rather than\n",
    "# building the mesh ourselves, because it gives a better transparent\n",
    "# rendering.\n",
    "sphere = mlab.points3d(0, 0, 0, scale_mode='none',\n",
    "                                scale_factor=2,\n",
    "                                color=(0.69, 0.77, 0.93),\n",
    "                                resolution=50,\n",
    "                                opacity=0.3,\n",
    "                                name='Earth')\n",
    "\n",
    "# These parameters, as well as the color, where tweaked through the GUI,\n",
    "# with the record mode to produce lines of code usable in a script.\n",
    "sphere.actor.property.specular = 0.45\n",
    "sphere.actor.property.specular_power = 5\n",
    "# Backface culling is necessary for more a beautiful transparent\n",
    "# rendering.\n",
    "sphere.actor.property.backface_culling = True\n",
    "\n",
    "mlab.view(63.4, 73.8, 4, [-0.05, 0, 0])\n",
    "mlab.show()\n",
    "sphere"
   ]
  },
  {
   "cell_type": "code",
   "execution_count": null,
   "id": "7d5d9884",
   "metadata": {},
   "outputs": [],
   "source": []
  }
 ],
 "metadata": {
  "kernelspec": {
   "display_name": "Python 3 (ipykernel)",
   "language": "python",
   "name": "python3"
  },
  "language_info": {
   "codemirror_mode": {
    "name": "ipython",
    "version": 3
   },
   "file_extension": ".py",
   "mimetype": "text/x-python",
   "name": "python",
   "nbconvert_exporter": "python",
   "pygments_lexer": "ipython3",
   "version": "3.10.4"
  }
 },
 "nbformat": 4,
 "nbformat_minor": 5
}
